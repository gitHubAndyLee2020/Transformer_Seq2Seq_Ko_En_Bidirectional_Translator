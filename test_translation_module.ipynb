{
  "nbformat": 4,
  "nbformat_minor": 0,
  "metadata": {
    "colab": {
      "provenance": [],
      "machine_shape": "hm",
      "gpuType": "T4",
      "authorship_tag": "ABX9TyPyltMZ2WSriIzgGQyoG4di",
      "include_colab_link": true
    },
    "kernelspec": {
      "name": "python3",
      "display_name": "Python 3"
    },
    "language_info": {
      "name": "python"
    },
    "accelerator": "GPU"
  },
  "cells": [
    {
      "cell_type": "markdown",
      "metadata": {
        "id": "view-in-github",
        "colab_type": "text"
      },
      "source": [
        "<a href=\"https://colab.research.google.com/github/gitHubAndyLee2020/Transformer_Seq2Seq_Ko_En_Bidirectional_Translator/blob/main/test_translation_module.ipynb\" target=\"_parent\"><img src=\"https://colab.research.google.com/assets/colab-badge.svg\" alt=\"Open In Colab\"/></a>"
      ]
    },
    {
      "cell_type": "code",
      "source": [
        "from google.colab import files\n",
        "uploaded = files.upload()"
      ],
      "metadata": {
        "colab": {
          "base_uri": "https://localhost:8080/",
          "height": 108
        },
        "id": "68GlpUmMF_OH",
        "outputId": "dd7be2fb-0ca7-48af-85c1-3ae580589ca5"
      },
      "execution_count": 21,
      "outputs": [
        {
          "output_type": "display_data",
          "data": {
            "text/plain": [
              "<IPython.core.display.HTML object>"
            ],
            "text/html": [
              "\n",
              "     <input type=\"file\" id=\"files-71fd0ca9-3551-4f44-9749-2d7db23d77bd\" name=\"files[]\" multiple disabled\n",
              "        style=\"border:none\" />\n",
              "     <output id=\"result-71fd0ca9-3551-4f44-9749-2d7db23d77bd\">\n",
              "      Upload widget is only available when the cell has been executed in the\n",
              "      current browser session. Please rerun this cell to enable.\n",
              "      </output>\n",
              "      <script>// Copyright 2017 Google LLC\n",
              "//\n",
              "// Licensed under the Apache License, Version 2.0 (the \"License\");\n",
              "// you may not use this file except in compliance with the License.\n",
              "// You may obtain a copy of the License at\n",
              "//\n",
              "//      http://www.apache.org/licenses/LICENSE-2.0\n",
              "//\n",
              "// Unless required by applicable law or agreed to in writing, software\n",
              "// distributed under the License is distributed on an \"AS IS\" BASIS,\n",
              "// WITHOUT WARRANTIES OR CONDITIONS OF ANY KIND, either express or implied.\n",
              "// See the License for the specific language governing permissions and\n",
              "// limitations under the License.\n",
              "\n",
              "/**\n",
              " * @fileoverview Helpers for google.colab Python module.\n",
              " */\n",
              "(function(scope) {\n",
              "function span(text, styleAttributes = {}) {\n",
              "  const element = document.createElement('span');\n",
              "  element.textContent = text;\n",
              "  for (const key of Object.keys(styleAttributes)) {\n",
              "    element.style[key] = styleAttributes[key];\n",
              "  }\n",
              "  return element;\n",
              "}\n",
              "\n",
              "// Max number of bytes which will be uploaded at a time.\n",
              "const MAX_PAYLOAD_SIZE = 100 * 1024;\n",
              "\n",
              "function _uploadFiles(inputId, outputId) {\n",
              "  const steps = uploadFilesStep(inputId, outputId);\n",
              "  const outputElement = document.getElementById(outputId);\n",
              "  // Cache steps on the outputElement to make it available for the next call\n",
              "  // to uploadFilesContinue from Python.\n",
              "  outputElement.steps = steps;\n",
              "\n",
              "  return _uploadFilesContinue(outputId);\n",
              "}\n",
              "\n",
              "// This is roughly an async generator (not supported in the browser yet),\n",
              "// where there are multiple asynchronous steps and the Python side is going\n",
              "// to poll for completion of each step.\n",
              "// This uses a Promise to block the python side on completion of each step,\n",
              "// then passes the result of the previous step as the input to the next step.\n",
              "function _uploadFilesContinue(outputId) {\n",
              "  const outputElement = document.getElementById(outputId);\n",
              "  const steps = outputElement.steps;\n",
              "\n",
              "  const next = steps.next(outputElement.lastPromiseValue);\n",
              "  return Promise.resolve(next.value.promise).then((value) => {\n",
              "    // Cache the last promise value to make it available to the next\n",
              "    // step of the generator.\n",
              "    outputElement.lastPromiseValue = value;\n",
              "    return next.value.response;\n",
              "  });\n",
              "}\n",
              "\n",
              "/**\n",
              " * Generator function which is called between each async step of the upload\n",
              " * process.\n",
              " * @param {string} inputId Element ID of the input file picker element.\n",
              " * @param {string} outputId Element ID of the output display.\n",
              " * @return {!Iterable<!Object>} Iterable of next steps.\n",
              " */\n",
              "function* uploadFilesStep(inputId, outputId) {\n",
              "  const inputElement = document.getElementById(inputId);\n",
              "  inputElement.disabled = false;\n",
              "\n",
              "  const outputElement = document.getElementById(outputId);\n",
              "  outputElement.innerHTML = '';\n",
              "\n",
              "  const pickedPromise = new Promise((resolve) => {\n",
              "    inputElement.addEventListener('change', (e) => {\n",
              "      resolve(e.target.files);\n",
              "    });\n",
              "  });\n",
              "\n",
              "  const cancel = document.createElement('button');\n",
              "  inputElement.parentElement.appendChild(cancel);\n",
              "  cancel.textContent = 'Cancel upload';\n",
              "  const cancelPromise = new Promise((resolve) => {\n",
              "    cancel.onclick = () => {\n",
              "      resolve(null);\n",
              "    };\n",
              "  });\n",
              "\n",
              "  // Wait for the user to pick the files.\n",
              "  const files = yield {\n",
              "    promise: Promise.race([pickedPromise, cancelPromise]),\n",
              "    response: {\n",
              "      action: 'starting',\n",
              "    }\n",
              "  };\n",
              "\n",
              "  cancel.remove();\n",
              "\n",
              "  // Disable the input element since further picks are not allowed.\n",
              "  inputElement.disabled = true;\n",
              "\n",
              "  if (!files) {\n",
              "    return {\n",
              "      response: {\n",
              "        action: 'complete',\n",
              "      }\n",
              "    };\n",
              "  }\n",
              "\n",
              "  for (const file of files) {\n",
              "    const li = document.createElement('li');\n",
              "    li.append(span(file.name, {fontWeight: 'bold'}));\n",
              "    li.append(span(\n",
              "        `(${file.type || 'n/a'}) - ${file.size} bytes, ` +\n",
              "        `last modified: ${\n",
              "            file.lastModifiedDate ? file.lastModifiedDate.toLocaleDateString() :\n",
              "                                    'n/a'} - `));\n",
              "    const percent = span('0% done');\n",
              "    li.appendChild(percent);\n",
              "\n",
              "    outputElement.appendChild(li);\n",
              "\n",
              "    const fileDataPromise = new Promise((resolve) => {\n",
              "      const reader = new FileReader();\n",
              "      reader.onload = (e) => {\n",
              "        resolve(e.target.result);\n",
              "      };\n",
              "      reader.readAsArrayBuffer(file);\n",
              "    });\n",
              "    // Wait for the data to be ready.\n",
              "    let fileData = yield {\n",
              "      promise: fileDataPromise,\n",
              "      response: {\n",
              "        action: 'continue',\n",
              "      }\n",
              "    };\n",
              "\n",
              "    // Use a chunked sending to avoid message size limits. See b/62115660.\n",
              "    let position = 0;\n",
              "    do {\n",
              "      const length = Math.min(fileData.byteLength - position, MAX_PAYLOAD_SIZE);\n",
              "      const chunk = new Uint8Array(fileData, position, length);\n",
              "      position += length;\n",
              "\n",
              "      const base64 = btoa(String.fromCharCode.apply(null, chunk));\n",
              "      yield {\n",
              "        response: {\n",
              "          action: 'append',\n",
              "          file: file.name,\n",
              "          data: base64,\n",
              "        },\n",
              "      };\n",
              "\n",
              "      let percentDone = fileData.byteLength === 0 ?\n",
              "          100 :\n",
              "          Math.round((position / fileData.byteLength) * 100);\n",
              "      percent.textContent = `${percentDone}% done`;\n",
              "\n",
              "    } while (position < fileData.byteLength);\n",
              "  }\n",
              "\n",
              "  // All done.\n",
              "  yield {\n",
              "    response: {\n",
              "      action: 'complete',\n",
              "    }\n",
              "  };\n",
              "}\n",
              "\n",
              "scope.google = scope.google || {};\n",
              "scope.google.colab = scope.google.colab || {};\n",
              "scope.google.colab._files = {\n",
              "  _uploadFiles,\n",
              "  _uploadFilesContinue,\n",
              "};\n",
              "})(self);\n",
              "</script> "
            ]
          },
          "metadata": {}
        },
        {
          "output_type": "stream",
          "name": "stdout",
          "text": [
            "Saving kr_en_translation_ted_talk_dataset.zip to kr_en_translation_ted_talk_dataset (1).zip\n",
            "Saving translated_dataset_no1.zip to translated_dataset_no1.zip\n"
          ]
        }
      ]
    },
    {
      "cell_type": "code",
      "source": [
        "!unzip kr_en_translation_ted_talk_dataset.zip"
      ],
      "metadata": {
        "colab": {
          "base_uri": "https://localhost:8080/"
        },
        "id": "OMBJ8crHGf5M",
        "outputId": "468afffd-5a59-4e2e-d213-9782a7a0d103"
      },
      "execution_count": 22,
      "outputs": [
        {
          "output_type": "stream",
          "name": "stdout",
          "text": [
            "Archive:  kr_en_translation_ted_talk_dataset.zip\n",
            "replace multitarget-ted/en-ko/raw/ted_dev_en-ko.raw.en? [y]es, [n]o, [A]ll, [N]one, [r]ename: y\n",
            "  inflating: multitarget-ted/en-ko/raw/ted_dev_en-ko.raw.en  \n",
            "replace multitarget-ted/en-ko/raw/ted_dev_en-ko.raw.ko? [y]es, [n]o, [A]ll, [N]one, [r]ename: y\n",
            "  inflating: multitarget-ted/en-ko/raw/ted_dev_en-ko.raw.ko  \n",
            "replace multitarget-ted/en-ko/raw/ted_test1_en-ko.raw.en? [y]es, [n]o, [A]ll, [N]one, [r]ename: y\n",
            "  inflating: multitarget-ted/en-ko/raw/ted_test1_en-ko.raw.en  \n",
            "replace multitarget-ted/en-ko/raw/ted_test1_en-ko.raw.ko? [y]es, [n]o, [A]ll, [N]one, [r]ename: y\n",
            "  inflating: multitarget-ted/en-ko/raw/ted_test1_en-ko.raw.ko  \n",
            "replace multitarget-ted/en-ko/raw/ted_train_en-ko.raw.en? [y]es, [n]o, [A]ll, [N]one, [r]ename: y\n",
            "  inflating: multitarget-ted/en-ko/raw/ted_train_en-ko.raw.en  \n",
            "replace multitarget-ted/en-ko/raw/ted_train_en-ko.raw.ko? [y]es, [n]o, [A]ll, [N]one, [r]ename: y\n",
            "  inflating: multitarget-ted/en-ko/raw/ted_train_en-ko.raw.ko  \n"
          ]
        }
      ]
    },
    {
      "cell_type": "code",
      "source": [
        "!unzip translated_dataset_no1.zip"
      ],
      "metadata": {
        "colab": {
          "base_uri": "https://localhost:8080/"
        },
        "id": "ujrNdk59Rr-A",
        "outputId": "ad9273c2-fcd2-4098-ae9c-1e275c59c438"
      },
      "execution_count": 23,
      "outputs": [
        {
          "output_type": "stream",
          "name": "stdout",
          "text": [
            "Archive:  translated_dataset_no1.zip\n",
            "replace translated/translated_ko_to_en_epoch_0.txt? [y]es, [n]o, [A]ll, [N]one, [r]ename: y\n",
            "  inflating: translated/translated_ko_to_en_epoch_0.txt  \n",
            "  inflating: translated/translated_en_to_ko_epoch_1.txt  \n",
            "  inflating: translated/translated_ko_to_en_epoch_1.txt  \n",
            "replace translated/translated_en_to_ko_epoch_0.txt? [y]es, [n]o, [A]ll, [N]one, [r]ename: y\n",
            "  inflating: translated/translated_en_to_ko_epoch_0.txt  \n"
          ]
        }
      ]
    },
    {
      "cell_type": "code",
      "source": [
        "!pip install 'portalocker>=2.0.0'"
      ],
      "metadata": {
        "id": "MO7t9gzrHJyU"
      },
      "execution_count": null,
      "outputs": []
    },
    {
      "cell_type": "code",
      "source": [
        "!pip install -U torchdata\n",
        "!pip install -U spacy\n",
        "!python3 -m spacy download en_core_web_sm\n",
        "!python3 -m spacy download ko_core_news_sm"
      ],
      "metadata": {
        "id": "irIiS2kYHMKt"
      },
      "execution_count": null,
      "outputs": []
    },
    {
      "cell_type": "code",
      "source": [
        "FILE_PATH = 'multitarget-ted/en-ko/raw/'"
      ],
      "metadata": {
        "id": "KY0i0JtYKBRm"
      },
      "execution_count": 24,
      "outputs": []
    },
    {
      "cell_type": "code",
      "source": [
        "from nltk.translate.bleu_score import sentence_bleu\n",
        "from torchtext.data.utils import get_tokenizer\n",
        "\n",
        "def load_file(file_path):\n",
        "    with open(file_path, 'r', encoding='utf-8') as f:\n",
        "        lines = f.readlines()\n",
        "    return [line.strip() for line in lines]\n",
        "\n",
        "def evaluate_bleu(model_translated_file, actual_translated_file, ln):\n",
        "    # Get tokenizer\n",
        "    if ln == 'en':\n",
        "        tokenizer = get_tokenizer('spacy', language='en_core_web_sm')\n",
        "    elif ln == 'ko':\n",
        "        tokenizer = get_tokenizer('spacy', language='ko_core_news_sm')\n",
        "    else:\n",
        "        print(\"Unsupported language\")\n",
        "        return\n",
        "\n",
        "    # Load files\n",
        "    model_translated_lines = load_file(model_translated_file)\n",
        "    actual_translated_lines = load_file(actual_translated_file)\n",
        "\n",
        "    # Check if lengths are equal\n",
        "    if len(model_translated_lines) != len(actual_translated_lines):\n",
        "        print(\"The number of lines in both files must be the same.\")\n",
        "        return\n",
        "\n",
        "    bleu_scores = []\n",
        "\n",
        "    for model_line, actual_line in zip(model_translated_lines, actual_translated_lines):\n",
        "        # Tokenize text\n",
        "        model_tokens = tokenizer(model_line.lower())\n",
        "        actual_tokens = tokenizer(actual_line.lower())\n",
        "\n",
        "        # Compute BLEU score\n",
        "        bleu_score = sentence_bleu([actual_tokens], model_tokens)\n",
        "        bleu_scores.append(bleu_score)\n",
        "\n",
        "    avg_bleu = sum(bleu_scores) / len(bleu_scores)\n",
        "    return avg_bleu"
      ],
      "metadata": {
        "id": "C9ZYNZ1lF2uB"
      },
      "execution_count": 28,
      "outputs": []
    },
    {
      "cell_type": "code",
      "source": [
        "avg_bleu_scores = []\n",
        "\n",
        "for i in range(0, 2):\n",
        "  # Example usage\n",
        "  model_translated_file = f\"translated/translated_en_to_ko_epoch_{i}.txt\"\n",
        "  actual_translated_file = FILE_PATH + \"ted_test1_en-ko.raw.ko\"\n",
        "  ln = \"ko\"  # 'en' for English, 'ko' for Korean\n",
        "  print(f\"Testing translated English-to-Korean text at epoch {i}:\")\n",
        "  avg_bleu_ko = evaluate_bleu(model_translated_file, actual_translated_file, ln)\n",
        "  print(f'Average BLEU score: {avg_bleu_ko * 100:.2f}')\n",
        "\n",
        "  # Example usage\n",
        "  model_translated_file = f\"translated/translated_ko_to_en_epoch_{i}.txt\"\n",
        "  actual_translated_file = FILE_PATH + \"ted_test1_en-ko.raw.en\"\n",
        "  ln = \"en\"  # 'en' for English, 'ko' for Korean\n",
        "  print(f\"Testing translated Korean-to-English text at epoch {i}:\")\n",
        "  avg_bleu_en = evaluate_bleu(model_translated_file, actual_translated_file, ln)\n",
        "  print(f'Average BLEU score: {avg_bleu_en * 100:.2f}')\n",
        "\n",
        "  avg_bleu_scores.append((avg_bleu_ko, avg_bleu_en))"
      ],
      "metadata": {
        "colab": {
          "base_uri": "https://localhost:8080/"
        },
        "id": "KO3yN75-KWj3",
        "outputId": "e79b0ac5-9198-4c14-ed73-b49aa43f43e6"
      },
      "execution_count": 30,
      "outputs": [
        {
          "output_type": "stream",
          "name": "stdout",
          "text": [
            "Testing translated English-to-Korean text at epoch 0:\n"
          ]
        },
        {
          "output_type": "stream",
          "name": "stderr",
          "text": [
            "/usr/local/lib/python3.10/dist-packages/nltk/translate/bleu_score.py:552: UserWarning: \n",
            "The hypothesis contains 0 counts of 2-gram overlaps.\n",
            "Therefore the BLEU score evaluates to 0, independently of\n",
            "how many N-gram overlaps of lower order it contains.\n",
            "Consider using lower n-gram order or use SmoothingFunction()\n",
            "  warnings.warn(_msg)\n",
            "/usr/local/lib/python3.10/dist-packages/nltk/translate/bleu_score.py:552: UserWarning: \n",
            "The hypothesis contains 0 counts of 3-gram overlaps.\n",
            "Therefore the BLEU score evaluates to 0, independently of\n",
            "how many N-gram overlaps of lower order it contains.\n",
            "Consider using lower n-gram order or use SmoothingFunction()\n",
            "  warnings.warn(_msg)\n",
            "/usr/local/lib/python3.10/dist-packages/nltk/translate/bleu_score.py:552: UserWarning: \n",
            "The hypothesis contains 0 counts of 4-gram overlaps.\n",
            "Therefore the BLEU score evaluates to 0, independently of\n",
            "how many N-gram overlaps of lower order it contains.\n",
            "Consider using lower n-gram order or use SmoothingFunction()\n",
            "  warnings.warn(_msg)\n"
          ]
        },
        {
          "output_type": "stream",
          "name": "stdout",
          "text": [
            "Average BLEU score: 0.09\n",
            "Testing translated Korean-to-English text at epoch 0:\n",
            "Average BLEU score: 0.37\n",
            "Testing translated English-to-Korean text at epoch 1:\n",
            "Average BLEU score: 0.19\n",
            "Testing translated Korean-to-English text at epoch 1:\n",
            "Average BLEU score: 0.47\n"
          ]
        }
      ]
    },
    {
      "cell_type": "code",
      "source": [
        "import matplotlib.pyplot as plt\n",
        "\n",
        "def plot_bleu_scores(avg_bleu_scores):\n",
        "    # Extract the two sets of BLEU scores from the tuples\n",
        "    scores_1, scores_2 = zip(*avg_bleu_scores)\n",
        "\n",
        "    # Generate epochs\n",
        "    epochs = list(range(1, len(avg_bleu_scores) + 1))\n",
        "\n",
        "    # Create the plot\n",
        "    plt.figure(figsize=(10, 6))\n",
        "    plt.plot(epochs, scores_1, marker='o', linestyle='-', label='Model 1')\n",
        "    plt.plot(epochs, scores_2, marker='x', linestyle='-', label='Model 2')\n",
        "\n",
        "    # Add titles and labels\n",
        "    plt.title('Average BLEU Scores Over Epochs')\n",
        "    plt.xlabel('Epoch')\n",
        "    plt.ylabel('Avg Bleu Score')\n",
        "    plt.xticks(epochs)\n",
        "\n",
        "    # Add legend\n",
        "    plt.legend()\n",
        "\n",
        "    # Show the plot\n",
        "    plt.show()"
      ],
      "metadata": {
        "id": "NR6s7mkPS-6K"
      },
      "execution_count": 31,
      "outputs": []
    },
    {
      "cell_type": "code",
      "source": [
        "plot_bleu_scores(avg_bleu_scores)"
      ],
      "metadata": {
        "colab": {
          "base_uri": "https://localhost:8080/",
          "height": 564
        },
        "id": "xPnq9aLfTdAT",
        "outputId": "37c04881-1760-47d7-db1a-e76fe58c7ee8"
      },
      "execution_count": 32,
      "outputs": [
        {
          "output_type": "display_data",
          "data": {
            "text/plain": [
              "<Figure size 1000x600 with 1 Axes>"
            ],
            "image/png": "[encoded data removed]"
          },
          "metadata": {}
        }
      ]
    }
  ]
}